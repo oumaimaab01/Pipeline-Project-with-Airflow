{
  "nbformat": 4,
  "nbformat_minor": 0,
  "metadata": {
    "colab": {
      "provenance": []
    },
    "kernelspec": {
      "name": "python3",
      "display_name": "Python 3"
    },
    "language_info": {
      "name": "python"
    }
  },
  "cells": [
    {
      "cell_type": "code",
      "source": [
        "import re\n",
        "import nltk\n",
        "from nltk.corpus import stopwords\n",
        "from nltk.tokenize import word_tokenize\n",
        "import pandas as pd\n",
        "\n",
        "nltk.download('stopwords')\n",
        "nltk.download('punkt')\n",
        "\n",
        "# Chargement des données\n",
        "df = pd.read_csv('/content/youtube_data_vf.csv')\n",
        "\n",
        "# Nettoyage des données\n",
        "def clean_text(text):\n",
        "    text = text.lower()  # Transformation en minuscules\n",
        "    text = re.sub(r'http\\S+|www\\S+|https\\S+', '', text, flags=re.MULTILINE)  # Enlever les URLs\n",
        "    text = re.sub(r'\\@\\w+|\\#', '', text)  # Enlever les mentions et hashtags\n",
        "    text = re.sub(r'[^A-Za-z0-9\\s]+', '', text)  # Enlever les caractères spéciaux\n",
        "    text = re.sub(r'\\d+', '', text)  # Enlever les chiffres\n",
        "    tokens = word_tokenize(text)  # Tokenisation\n",
        "    tokens = [word for word in tokens if word not in stopwords.words('french')]  # Enlever les stop words\n",
        "    return \" \".join(tokens)\n",
        "\n",
        "# Appliquer le nettoyage aux colonnes pertinentes\n",
        "df['cleaned_title'] = df['title'].apply(lambda x: clean_text(x) if pd.notnull(x) else \"\")\n",
        "df['cleaned_description'] = df['description'].apply(lambda x: clean_text(x) if pd.notnull(x) else \"\")\n",
        "df['cleaned_comments'] = df['comments'].apply(lambda x: clean_text(x) if pd.notnull(x) else \"\")\n",
        "\n",
        "# Afficher les premières lignes du DataFrame après nettoyage\n",
        "print(df.head())\n"
      ],
      "metadata": {
        "colab": {
          "base_uri": "https://localhost:8080/"
        },
        "id": "QWuNsbRQon46",
        "outputId": "630716e3-12ae-4d82-d268-3509958dbfb6"
      },
      "execution_count": null,
      "outputs": [
        {
          "output_type": "stream",
          "name": "stderr",
          "text": [
            "[nltk_data] Downloading package stopwords to /root/nltk_data...\n",
            "[nltk_data]   Package stopwords is already up-to-date!\n",
            "[nltk_data] Downloading package punkt to /root/nltk_data...\n",
            "[nltk_data]   Package punkt is already up-to-date!\n"
          ]
        },
        {
          "output_type": "stream",
          "name": "stdout",
          "text": [
            "                 channel_id               playlist_id     video_id  \\\n",
            "0  UCoOae5nYA7VqaXzerajD0lg  UUoOae5nYA7VqaXzerajD0lg  B4U7vNtXBTI   \n",
            "1  UCoOae5nYA7VqaXzerajD0lg  UUoOae5nYA7VqaXzerajD0lg  JuCIU6FpQLs   \n",
            "2  UCoOae5nYA7VqaXzerajD0lg  UUoOae5nYA7VqaXzerajD0lg  tsOtjNdMMaI   \n",
            "3  UCoOae5nYA7VqaXzerajD0lg  UUoOae5nYA7VqaXzerajD0lg  jritw4L1A_4   \n",
            "4  UCoOae5nYA7VqaXzerajD0lg  UUoOae5nYA7VqaXzerajD0lg  TmuDsq4m4Ts   \n",
            "\n",
            "                                               title  \\\n",
            "0        7 Truths I Know at 30 But Wish I Knew at 20   \n",
            "1          This is how journaling can beat stress ✍️   \n",
            "2                 Positive emotions create energy ⚡️   \n",
            "3      This is why writers track their word count ✍️   \n",
            "4  How I Made $10m - An Ultimate Guide to Online ...   \n",
            "\n",
            "                                         description  \\\n",
            "0  Sign up to Morning Brew for free today! https:...   \n",
            "1  Check out my New York Times bestselling book a...   \n",
            "2  Check out my New York Times bestselling book a...   \n",
            "3  Check out my New York Times bestselling book a...   \n",
            "4  This video is a 1 hour masterclass on basicall...   \n",
            "\n",
            "                                            comments  \\\n",
            "0  ['Thanks for all the support over the years ga...   \n",
            "1  ['20-30 minutes a day 4 days a week. I believe...   \n",
            "2  ['❤❤❤', 'انا لست ربوت حتى استمر فقط في العمل و...   \n",
            "3  ['As an author myself, I\\'ve found it difficul...   \n",
            "4  ['What was the most useful/interesting part of...   \n",
            "\n",
            "                                    cleaned_title  \\\n",
            "0             truths i know at but wish i knew at   \n",
            "1          this is how journaling can beat stress   \n",
            "2                 positive emotions create energy   \n",
            "3      this is why writers track their word count   \n",
            "4  how i made an ultimate guide to online courses   \n",
            "\n",
            "                                 cleaned_description  \\\n",
            "0  sign up to morning brew for free today i turne...   \n",
            "1    check out my new york times bestselling book at   \n",
            "2    check out my new york times bestselling book at   \n",
            "3    check out my new york times bestselling book at   \n",
            "4  this video is a hour masterclass basically eve...   \n",
            "\n",
            "                                    cleaned_comments  \n",
            "0  thanks for all the support over the years gang...  \n",
            "1  minutes a day days a week i believe it also sh...  \n",
            "2  i am not a robot so i can only continue workin...  \n",
            "3  an author myself ive found it difficult to set...  \n",
            "4  what was the most usefulinteresting part of th...  \n"
          ]
        }
      ]
    },
    {
      "cell_type": "code",
      "source": [
        "import re\n",
        "import nltk\n",
        "from nltk.corpus import stopwords\n",
        "from nltk.tokenize import word_tokenize\n",
        "import pandas as pd\n",
        "\n",
        "nltk.download('stopwords')\n",
        "nltk.download('punkt')\n",
        "\n",
        "# Chargement des données\n",
        "df = pd.read_csv('/content/youtube_data_vf.csv')\n",
        "\n",
        "# Afficher les premières lignes du DataFrame avant le nettoyage\n",
        "print(\"Data before cleaning:\")\n",
        "print(df.head())\n",
        "\n",
        "# Nettoyage des données\n",
        "def clean_text(text):\n",
        "    text = text.lower()  # Transformation en minuscules\n",
        "    text = re.sub(r'http\\S+|www\\S+|https\\S+', '', text, flags=re.MULTILINE)  # Enlever les URLs\n",
        "    text = re.sub(r'\\@\\w+|\\#', '', text)  # Enlever les mentions et hashtags\n",
        "    text = re.sub(r'[^A-Za-z0-9\\s]+', '', text)  # Enlever les caractères spéciaux\n",
        "    text = re.sub(r'\\d+', '', text)  # Enlever les chiffres\n",
        "    tokens = word_tokenize(text)  # Tokenisation\n",
        "    tokens = [word for word in tokens if word not in stopwords.words('french')]  # Enlever les stop words\n",
        "    return \" \".join(tokens)\n",
        "\n",
        "# Appliquer le nettoyage aux colonnes pertinentes\n",
        "df['cleaned_title'] = df['title'].apply(lambda x: clean_text(x) if pd.notnull(x) else \"\")\n",
        "df['cleaned_description'] = df['description'].apply(lambda x: clean_text(x) if pd.notnull(x) else \"\")\n",
        "df['cleaned_comments'] = df['comments'].apply(lambda x: clean_text(x) if pd.notnull(x) else \"\")\n",
        "\n",
        "# Afficher les premières lignes du DataFrame après nettoyage\n",
        "print(\"Data after cleaning:\")\n",
        "print(df.head())\n"
      ],
      "metadata": {
        "colab": {
          "base_uri": "https://localhost:8080/"
        },
        "id": "CY6zWetJshsY",
        "outputId": "8b9362cc-0ac0-4267-cb1f-a1bf002702fc"
      },
      "execution_count": null,
      "outputs": [
        {
          "output_type": "stream",
          "name": "stdout",
          "text": [
            "Data before cleaning:\n",
            "                 channel_id               playlist_id     video_id  \\\n",
            "0  UCoOae5nYA7VqaXzerajD0lg  UUoOae5nYA7VqaXzerajD0lg  B4U7vNtXBTI   \n",
            "1  UCoOae5nYA7VqaXzerajD0lg  UUoOae5nYA7VqaXzerajD0lg  JuCIU6FpQLs   \n",
            "2  UCoOae5nYA7VqaXzerajD0lg  UUoOae5nYA7VqaXzerajD0lg  tsOtjNdMMaI   \n",
            "3  UCoOae5nYA7VqaXzerajD0lg  UUoOae5nYA7VqaXzerajD0lg  jritw4L1A_4   \n",
            "4  UCoOae5nYA7VqaXzerajD0lg  UUoOae5nYA7VqaXzerajD0lg  TmuDsq4m4Ts   \n",
            "\n",
            "                                               title  \\\n",
            "0        7 Truths I Know at 30 But Wish I Knew at 20   \n",
            "1          This is how journaling can beat stress ✍️   \n",
            "2                 Positive emotions create energy ⚡️   \n",
            "3      This is why writers track their word count ✍️   \n",
            "4  How I Made $10m - An Ultimate Guide to Online ...   \n",
            "\n",
            "                                         description  \\\n",
            "0  Sign up to Morning Brew for free today! https:...   \n",
            "1  Check out my New York Times bestselling book a...   \n",
            "2  Check out my New York Times bestselling book a...   \n",
            "3  Check out my New York Times bestselling book a...   \n",
            "4  This video is a 1 hour masterclass on basicall...   \n",
            "\n",
            "                                            comments  \n",
            "0  ['Thanks for all the support over the years ga...  \n",
            "1  ['20-30 minutes a day 4 days a week. I believe...  \n",
            "2  ['❤❤❤', 'انا لست ربوت حتى استمر فقط في العمل و...  \n",
            "3  ['As an author myself, I\\'ve found it difficul...  \n",
            "4  ['What was the most useful/interesting part of...  \n"
          ]
        },
        {
          "output_type": "stream",
          "name": "stderr",
          "text": [
            "[nltk_data] Downloading package stopwords to /root/nltk_data...\n",
            "[nltk_data]   Package stopwords is already up-to-date!\n",
            "[nltk_data] Downloading package punkt to /root/nltk_data...\n",
            "[nltk_data]   Package punkt is already up-to-date!\n"
          ]
        },
        {
          "output_type": "stream",
          "name": "stdout",
          "text": [
            "Data after cleaning:\n",
            "                 channel_id               playlist_id     video_id  \\\n",
            "0  UCoOae5nYA7VqaXzerajD0lg  UUoOae5nYA7VqaXzerajD0lg  B4U7vNtXBTI   \n",
            "1  UCoOae5nYA7VqaXzerajD0lg  UUoOae5nYA7VqaXzerajD0lg  JuCIU6FpQLs   \n",
            "2  UCoOae5nYA7VqaXzerajD0lg  UUoOae5nYA7VqaXzerajD0lg  tsOtjNdMMaI   \n",
            "3  UCoOae5nYA7VqaXzerajD0lg  UUoOae5nYA7VqaXzerajD0lg  jritw4L1A_4   \n",
            "4  UCoOae5nYA7VqaXzerajD0lg  UUoOae5nYA7VqaXzerajD0lg  TmuDsq4m4Ts   \n",
            "\n",
            "                                               title  \\\n",
            "0        7 Truths I Know at 30 But Wish I Knew at 20   \n",
            "1          This is how journaling can beat stress ✍️   \n",
            "2                 Positive emotions create energy ⚡️   \n",
            "3      This is why writers track their word count ✍️   \n",
            "4  How I Made $10m - An Ultimate Guide to Online ...   \n",
            "\n",
            "                                         description  \\\n",
            "0  Sign up to Morning Brew for free today! https:...   \n",
            "1  Check out my New York Times bestselling book a...   \n",
            "2  Check out my New York Times bestselling book a...   \n",
            "3  Check out my New York Times bestselling book a...   \n",
            "4  This video is a 1 hour masterclass on basicall...   \n",
            "\n",
            "                                            comments  \\\n",
            "0  ['Thanks for all the support over the years ga...   \n",
            "1  ['20-30 minutes a day 4 days a week. I believe...   \n",
            "2  ['❤❤❤', 'انا لست ربوت حتى استمر فقط في العمل و...   \n",
            "3  ['As an author myself, I\\'ve found it difficul...   \n",
            "4  ['What was the most useful/interesting part of...   \n",
            "\n",
            "                                    cleaned_title  \\\n",
            "0             truths i know at but wish i knew at   \n",
            "1          this is how journaling can beat stress   \n",
            "2                 positive emotions create energy   \n",
            "3      this is why writers track their word count   \n",
            "4  how i made an ultimate guide to online courses   \n",
            "\n",
            "                                 cleaned_description  \\\n",
            "0  sign up to morning brew for free today i turne...   \n",
            "1    check out my new york times bestselling book at   \n",
            "2    check out my new york times bestselling book at   \n",
            "3    check out my new york times bestselling book at   \n",
            "4  this video is a hour masterclass basically eve...   \n",
            "\n",
            "                                    cleaned_comments  \n",
            "0  thanks for all the support over the years gang...  \n",
            "1  minutes a day days a week i believe it also sh...  \n",
            "2  i am not a robot so i can only continue workin...  \n",
            "3  an author myself ive found it difficult to set...  \n",
            "4  what was the most usefulinteresting part of th...  \n"
          ]
        }
      ]
    },
    {
      "cell_type": "code",
      "source": [
        "# Sélectionner les colonnes à sauvegarder\n",
        "columns_to_save = [\n",
        "    'channel_id', 'playlist_id', 'video_id', 'cleaned_title', 'cleaned_description', 'cleaned_comments'\n",
        "]\n",
        "\n",
        "# Enregistrer le DataFrame dans un fichier CSV\n",
        "csv_filename = 'youtube_data_prepared_for_huggingface.csv'\n",
        "df[columns_to_save].to_csv(csv_filename, index=False)\n",
        "\n",
        "print(f\"Data saved to {csv_filename}\")\n"
      ],
      "metadata": {
        "colab": {
          "base_uri": "https://localhost:8080/"
        },
        "id": "e9oq8XwLpbSe",
        "outputId": "c265e0d8-b866-4691-bc36-b58f6d10acc1"
      },
      "execution_count": null,
      "outputs": [
        {
          "output_type": "stream",
          "name": "stdout",
          "text": [
            "Data saved to youtube_data_prepared_for_huggingface.csv\n"
          ]
        }
      ]
    }
  ]
}